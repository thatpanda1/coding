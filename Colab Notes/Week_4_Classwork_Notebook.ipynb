{
  "nbformat": 4,
  "nbformat_minor": 0,
  "metadata": {
    "colab": {
      "provenance": [],
      "include_colab_link": true
    },
    "kernelspec": {
      "name": "python3",
      "display_name": "Python 3"
    },
    "language_info": {
      "name": "python"
    }
  },
  "cells": [
    {
      "cell_type": "markdown",
      "metadata": {
        "id": "view-in-github",
        "colab_type": "text"
      },
      "source": [
        "<a href=\"https://colab.research.google.com/github/thatpanda1/ATLGame/blob/main/Week_4_Classwork_Notebook.ipynb\" target=\"_parent\"><img src=\"https://colab.research.google.com/assets/colab-badge.svg\" alt=\"Open In Colab\"/></a>"
      ]
    },
    {
      "cell_type": "markdown",
      "source": [
        "**Week 4: More Data Types**\n",
        "---\n",
        "\n",
        "### **Description**\n",
        "In this week, we will familiarize ourselves with printing statements and creating variables.\n",
        "\n",
        "<br>\n",
        "\n",
        "<br>\n",
        "\n",
        "### **Learning Objectives**\n",
        "By the end of this lab, we will:\n",
        "* Learn what a Boolean is\n",
        "* Learn how to create comments\n",
        "* Learn what casting is\n",
        "\n"
      ],
      "metadata": {
        "id": "K3JVwUgVElwe"
      }
    },
    {
      "cell_type": "markdown",
      "source": [
        "<a name=\"p1\"></a>\n",
        "\n",
        "---\n",
        "## **Part 1: Booleans**\n",
        "---"
      ],
      "metadata": {
        "id": "vFusVI8O6sd-"
      }
    },
    {
      "cell_type": "markdown",
      "source": [
        "#### **Problem #1.1**"
      ],
      "metadata": {
        "id": "4EgRMGgY7J-X"
      }
    },
    {
      "cell_type": "code",
      "source": [
        "print(bool(\"Hello\"))"
      ],
      "metadata": {
        "id": "T8xD_JEjY5yf",
        "colab": {
          "base_uri": "https://localhost:8080/"
        },
        "outputId": "edc8cff7-455d-458e-ec0b-580d261ba83b"
      },
      "execution_count": null,
      "outputs": [
        {
          "output_type": "stream",
          "name": "stdout",
          "text": [
            "True\n"
          ]
        }
      ]
    },
    {
      "cell_type": "markdown",
      "source": [
        "#### **Problem #1.2**\n"
      ],
      "metadata": {
        "id": "0m36jq9PY4uY"
      }
    },
    {
      "cell_type": "code",
      "source": [
        "print(bool(15))"
      ],
      "metadata": {
        "colab": {
          "base_uri": "https://localhost:8080/"
        },
        "id": "ifq_C6JLTbmb",
        "outputId": "74a7de94-d210-446c-faeb-463fff5eec94"
      },
      "execution_count": null,
      "outputs": [
        {
          "output_type": "stream",
          "name": "stdout",
          "text": [
            "True\n"
          ]
        }
      ]
    },
    {
      "cell_type": "markdown",
      "source": [
        "#### **Problem #1.3**\n",
        "\n",
        "**Independently**, create a bool() function that returns True!"
      ],
      "metadata": {
        "id": "QXaIzQWFTZEs"
      }
    },
    {
      "cell_type": "code",
      "source": [
        "print(bool(12345))"
      ],
      "metadata": {
        "id": "WdQqP2ScTlcR",
        "outputId": "c9a89410-6a93-413a-ce21-fdf40342a595",
        "colab": {
          "base_uri": "https://localhost:8080/"
        }
      },
      "execution_count": 1,
      "outputs": [
        {
          "output_type": "stream",
          "name": "stdout",
          "text": [
            "True\n"
          ]
        }
      ]
    },
    {
      "cell_type": "markdown",
      "source": [
        "#### **Problem #1.4**\n",
        "\n",
        "**Independently**, create a bool() function that returns *False*!"
      ],
      "metadata": {
        "id": "BmZLT-9iTk4-"
      }
    },
    {
      "cell_type": "code",
      "source": [
        "print(bool(0))"
      ],
      "metadata": {
        "id": "Gxm7jMAKYzz7",
        "outputId": "f26b6ff4-d5eb-4524-f31d-7cb860d901a1",
        "colab": {
          "base_uri": "https://localhost:8080/"
        }
      },
      "execution_count": 2,
      "outputs": [
        {
          "output_type": "stream",
          "name": "stdout",
          "text": [
            "False\n"
          ]
        }
      ]
    },
    {
      "cell_type": "markdown",
      "source": [
        "<a name=\"p1\"></a>\n",
        "\n",
        "---\n",
        "## **Part 2: Variables**\n",
        "---"
      ],
      "metadata": {
        "id": "nlLXEG6dOMnH"
      }
    },
    {
      "cell_type": "markdown",
      "source": [
        "#### **Problem #2.1**\n",
        "\n",
        "**Together**, let's create a multiline comment!"
      ],
      "metadata": {
        "id": "fW0v28kFPKJI"
      }
    },
    {
      "cell_type": "code",
      "source": [
        "print('this \\n is a message')"
      ],
      "metadata": {
        "id": "aKfg9lCLZJzy",
        "outputId": "8c5b0537-2dfa-4223-a2e3-988a0f08ddcf",
        "colab": {
          "base_uri": "https://localhost:8080/"
        }
      },
      "execution_count": 3,
      "outputs": [
        {
          "output_type": "stream",
          "name": "stdout",
          "text": [
            "this \n",
            " is a message\n"
          ]
        }
      ]
    },
    {
      "cell_type": "markdown",
      "source": [
        "#### **Problem #2.2**\n",
        "\n",
        "**Independently**,  create a comment describing what the code does."
      ],
      "metadata": {
        "id": "3ibIHkdzZ_RY"
      }
    },
    {
      "cell_type": "code",
      "source": [
        "length = 10\n",
        "width = 20\n",
        "area =10*20\n",
        "# Defines 3 variables"
      ],
      "metadata": {
        "id": "y4bYp0JCROef"
      },
      "execution_count": null,
      "outputs": []
    },
    {
      "cell_type": "markdown",
      "source": [
        "#### **Problem #2.3**\n",
        "\n",
        "**Independently**,  create a multi-line comment"
      ],
      "metadata": {
        "id": "y1lmqKMNRMu3"
      }
    },
    {
      "cell_type": "code",
      "source": [
        "print('a \\n b \\n c\\n')\n",
        "\"\"\"\n",
        "a\n",
        "b\n",
        "c\n",
        "d\n",
        "e\n",
        "f\n",
        "\"\"\""
      ],
      "metadata": {
        "id": "YDF0Ryh5Pxra",
        "outputId": "5d81415a-3b35-489d-8b59-653216e2cd97",
        "colab": {
          "base_uri": "https://localhost:8080/",
          "height": 105
        }
      },
      "execution_count": 5,
      "outputs": [
        {
          "output_type": "stream",
          "name": "stdout",
          "text": [
            "a \n",
            " b \n",
            " c\n",
            "\n"
          ]
        },
        {
          "output_type": "execute_result",
          "data": {
            "text/plain": [
              "'\\na\\nb\\nc\\nd\\ne\\nf\\n'"
            ],
            "application/vnd.google.colaboratory.intrinsic+json": {
              "type": "string"
            }
          },
          "metadata": {},
          "execution_count": 5
        }
      ]
    },
    {
      "cell_type": "markdown",
      "source": [
        "<a name=\"p1\"></a>\n",
        "\n",
        "---\n",
        "## **Part 3: Casting**\n",
        "---"
      ],
      "metadata": {
        "id": "hp8tfu0mP6md"
      }
    },
    {
      "cell_type": "markdown",
      "source": [
        "#### **Problem #3.1 (name.title())**\n",
        "\n",
        "**Together**, take a look at this example!"
      ],
      "metadata": {
        "id": "XeZhUKNHP6me"
      }
    },
    {
      "cell_type": "code",
      "source": [
        "name = \"aDa LovElace!\""
      ],
      "metadata": {
        "id": "d6Bk3T_0QuVD"
      },
      "execution_count": null,
      "outputs": []
    },
    {
      "cell_type": "markdown",
      "source": [
        "#### **Problem #3.2 (name.lower())**\n",
        "\n",
        "**Together**, take a look at this example!"
      ],
      "metadata": {
        "id": "iev56Bk6P6me"
      }
    },
    {
      "cell_type": "code",
      "source": [
        "name = \"aDa LovElace!\""
      ],
      "metadata": {
        "id": "5NoLV0LHQsf0"
      },
      "execution_count": null,
      "outputs": []
    },
    {
      "cell_type": "markdown",
      "source": [
        "#### **Problem #3.3 (name.upper())**\n",
        "\n",
        "**Together**, take a look at this example!"
      ],
      "metadata": {
        "id": "MWVVbA6eP6me"
      }
    },
    {
      "cell_type": "code",
      "source": [
        "name = \"aDa LovElace!\""
      ],
      "metadata": {
        "id": "dYN7xaB1P6me"
      },
      "execution_count": null,
      "outputs": []
    },
    {
      "cell_type": "markdown",
      "source": [
        "#### **Problem #3.4 (string concatenating)**\n",
        "\n",
        "**Together**,  Store a last name and a first name and combine them through concatenating to create a full name.\n"
      ],
      "metadata": {
        "id": "tdo2WRVaP6me"
      }
    },
    {
      "cell_type": "code",
      "source": [
        "first_name = \"Jane\"\n",
        "last_name = \"Doe\""
      ],
      "metadata": {
        "id": "s5ONmwuiP6me"
      },
      "execution_count": null,
      "outputs": []
    },
    {
      "cell_type": "markdown",
      "source": [
        "<a name=\"p1\"></a>\n",
        "\n",
        "---\n",
        "## **Part 4: Numbers**\n",
        "---"
      ],
      "metadata": {
        "id": "50nVvl8ORE7B"
      }
    },
    {
      "cell_type": "markdown",
      "source": [
        "\n",
        "### **Remember, what are number data types?**\n",
        "\n",
        "* Integers are whole numbers without decimal point\n",
        "* Floats are  any number with a decimal point\n",
        "* They can be stored the same way as strings just without the quotation marks"
      ],
      "metadata": {
        "id": "Pkg3DTAFRE7C"
      }
    },
    {
      "cell_type": "markdown",
      "source": [
        "#### **Problem #3.1**\n",
        "\n",
        "**Together**, let's add two numbers!"
      ],
      "metadata": {
        "id": "v9RDaYQFRE7D"
      }
    },
    {
      "cell_type": "code",
      "source": [],
      "metadata": {
        "id": "ETYxwNOPRE7D"
      },
      "execution_count": null,
      "outputs": []
    },
    {
      "cell_type": "markdown",
      "source": [
        "#### **Problem #3.2**\n",
        "\n",
        "**Independently**, multiply or divide two numbers!"
      ],
      "metadata": {
        "id": "MpHljJtXRE7E"
      }
    },
    {
      "cell_type": "code",
      "source": [],
      "metadata": {
        "id": "oR095h6gRE7E"
      },
      "execution_count": null,
      "outputs": []
    },
    {
      "cell_type": "markdown",
      "source": [
        "#### **Problem #3.3**\n",
        "\n",
        "**Together**, take a look at this example!"
      ],
      "metadata": {
        "id": "se6ZuDDyRE7E"
      }
    },
    {
      "cell_type": "code",
      "source": [
        "number_of_fruits = 19\n",
        "number_of_vegetables = 4"
      ],
      "metadata": {
        "id": "jkJlg8U-RE7E"
      },
      "execution_count": null,
      "outputs": []
    },
    {
      "cell_type": "markdown",
      "source": [
        "#### **Problem #3.4**\n",
        "\n",
        "**Independently**, create variables and use operations to manipulate them.\n"
      ],
      "metadata": {
        "id": "TyNdgYsNRE7E"
      }
    },
    {
      "cell_type": "code",
      "source": [],
      "metadata": {
        "id": "MnyWdPswRE7F"
      },
      "execution_count": null,
      "outputs": []
    },
    {
      "cell_type": "markdown",
      "source": [
        "<a name=\"p1\"></a>\n",
        "\n",
        "---\n",
        "## **Part 5: Other Data Types**\n",
        "---"
      ],
      "metadata": {
        "id": "QPiF1tc9SYId"
      }
    },
    {
      "cell_type": "markdown",
      "source": [
        "\n",
        "### **Remember, what are number data types?**\n",
        "\n",
        "* Comments aren’t data types but are useful to know\n",
        "* The hash mark (#) indicates a comment\n",
        "* Eg. #this line of code prints something To make notes to yourself to keep code organized"
      ],
      "metadata": {
        "id": "u6bOsTIkSYIu"
      }
    },
    {
      "cell_type": "markdown",
      "source": [
        "#### **Problem #3.1**\n",
        "\n",
        "**Together**, create a comment."
      ],
      "metadata": {
        "id": "GWjl7aymSYIu"
      }
    },
    {
      "cell_type": "code",
      "source": [
        "length = 2\n",
        "width = 10\n",
        "area = length*width"
      ],
      "metadata": {
        "id": "rNpzKuVxSYIu"
      },
      "execution_count": null,
      "outputs": []
    },
    {
      "cell_type": "markdown",
      "source": [
        "#### **Problem #3.2**\n",
        "\n",
        "**Independently**, independently create a comment!"
      ],
      "metadata": {
        "id": "UdNYRsw2SYIu"
      }
    },
    {
      "cell_type": "code",
      "source": [
        "budget = 100\n",
        "price_of_each_fruit = 5.50\n",
        "number_of_fruits = 7\n",
        "leftover = budget - (price_of_each_fruit*number_of_fruits)"
      ],
      "metadata": {
        "id": "AmeZTEbcSYIw"
      },
      "execution_count": null,
      "outputs": []
    },
    {
      "cell_type": "code",
      "source": [
        "number_of_fruits = 19\n",
        "number_of_vegetables = 4"
      ],
      "metadata": {
        "id": "u9yvh0k4SYIw"
      },
      "execution_count": null,
      "outputs": []
    }
  ]
}