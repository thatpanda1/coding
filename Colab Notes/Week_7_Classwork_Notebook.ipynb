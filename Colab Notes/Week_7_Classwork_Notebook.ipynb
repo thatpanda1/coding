{
  "nbformat": 4,
  "nbformat_minor": 0,
  "metadata": {
    "colab": {
      "provenance": [],
      "collapsed_sections": [
        "nlLXEG6dOMnH"
      ],
      "include_colab_link": true
    },
    "kernelspec": {
      "name": "python3",
      "display_name": "Python 3"
    },
    "language_info": {
      "name": "python"
    }
  },
  "cells": [
    {
      "cell_type": "markdown",
      "metadata": {
        "id": "view-in-github",
        "colab_type": "text"
      },
      "source": [
        "<a href=\"https://colab.research.google.com/github/thatpanda1/coding/blob/main/11_15_2023_Classwork_Notebook.ipynb\" target=\"_parent\"><img src=\"https://colab.research.google.com/assets/colab-badge.svg\" alt=\"Open In Colab\"/></a>"
      ]
    },
    {
      "cell_type": "markdown",
      "source": [
        "**Week of 11.15.2023: Tuples and Dictionaries**\n",
        "---\n",
        "\n",
        "<br>\n",
        "\n",
        "<br>\n",
        "\n",
        "### **Learning Objectives**\n",
        "By the end of this lab, we will:\n",
        "* Check what datatype a value is\n",
        "* Cast or change the datatype for a value\n",
        "* Take the input from a user\n",
        "* How to create a list\n",
        "* How to select a certain element from a list\n"
      ],
      "metadata": {
        "id": "K3JVwUgVElwe"
      }
    },
    {
      "cell_type": "markdown",
      "source": [
        "<a name=\"p1\"></a>\n",
        "\n",
        "---\n",
        "## **Part 1: Tuples**\n",
        "---"
      ],
      "metadata": {
        "id": "vFusVI8O6sd-"
      }
    },
    {
      "cell_type": "markdown",
      "source": [
        "#### **Problem #1.1**\n",
        "\n",
        "**Together**, create a tuple!"
      ],
      "metadata": {
        "id": "4EgRMGgY7J-X"
      }
    },
    {
      "cell_type": "code",
      "source": [
        "coding_languages = ('python', 'java', 'c', 'c++', 'html')"
      ],
      "metadata": {
        "id": "T8xD_JEjY5yf",
        "colab": {
          "base_uri": "https://localhost:8080/",
          "height": 70
        },
        "outputId": "8b3bdc80-2a40-49cc-8708-e8a3eca6cd1d"
      },
      "execution_count": null,
      "outputs": [
        {
          "output_type": "stream",
          "name": "stdout",
          "text": [
            "<class 'tuple'>\n",
            "apple\n"
          ]
        },
        {
          "output_type": "execute_result",
          "data": {
            "text/plain": [
              "'apple'"
            ],
            "application/vnd.google.colaboratory.intrinsic+json": {
              "type": "string"
            }
          },
          "metadata": {},
          "execution_count": 8
        }
      ]
    },
    {
      "cell_type": "markdown",
      "source": [
        "#### **Problem #1.2**\n",
        "\n",
        "**Independently**, create a tuple showing the first 10 whole numbers and access the first item."
      ],
      "metadata": {
        "id": "0m36jq9PY4uY"
      }
    },
    {
      "cell_type": "code",
      "source": [
        "whole_numbers = (1, 2, 3, 4, 5, 6, 7, 8, 9, 10)\n",
        "print(whole_numbers[0])"
      ],
      "metadata": {
        "id": "m2RLNjUkU4iW",
        "colab": {
          "base_uri": "https://localhost:8080/"
        },
        "outputId": "d4ba11be-fa48-434f-eb36-84c5bb2a49d9"
      },
      "execution_count": null,
      "outputs": [
        {
          "output_type": "stream",
          "name": "stdout",
          "text": [
            "1\n"
          ]
        }
      ]
    },
    {
      "cell_type": "markdown",
      "source": [
        "#### **Problem #1.3**\n",
        "\n",
        "**Together**, let's try to run this code!"
      ],
      "metadata": {
        "id": "PAkOUDniU3vj"
      }
    },
    {
      "cell_type": "code",
      "source": [
        "lwsd_middle_schools= {\"evergreen\", \"inglewood\", \"kamiakin\"}\n",
        "lwsd_middle_schools.append(\"finn hill\")"
      ],
      "metadata": {
        "id": "Gxm7jMAKYzz7",
        "colab": {
          "base_uri": "https://localhost:8080/",
          "height": 193
        },
        "outputId": "e52b7744-3d78-43d9-fe24-cf5826c882c1"
      },
      "execution_count": 1,
      "outputs": [
        {
          "output_type": "error",
          "ename": "AttributeError",
          "evalue": "ignored",
          "traceback": [
            "\u001b[0;31m---------------------------------------------------------------------------\u001b[0m",
            "\u001b[0;31mAttributeError\u001b[0m                            Traceback (most recent call last)",
            "\u001b[0;32m<ipython-input-1-e94165edcd7f>\u001b[0m in \u001b[0;36m<cell line: 2>\u001b[0;34m()\u001b[0m\n\u001b[1;32m      1\u001b[0m \u001b[0mlwsd_middle_schools\u001b[0m\u001b[0;34m=\u001b[0m \u001b[0;34m{\u001b[0m\u001b[0;34m\"evergreen\"\u001b[0m\u001b[0;34m,\u001b[0m \u001b[0;34m\"inglewood\"\u001b[0m\u001b[0;34m,\u001b[0m \u001b[0;34m\"kamiakin\"\u001b[0m\u001b[0;34m}\u001b[0m\u001b[0;34m\u001b[0m\u001b[0;34m\u001b[0m\u001b[0m\n\u001b[0;32m----> 2\u001b[0;31m \u001b[0mlwsd_middle_schools\u001b[0m\u001b[0;34m.\u001b[0m\u001b[0mappend\u001b[0m\u001b[0;34m(\u001b[0m\u001b[0;34m\"finn hill\"\u001b[0m\u001b[0;34m)\u001b[0m\u001b[0;34m\u001b[0m\u001b[0;34m\u001b[0m\u001b[0m\n\u001b[0m",
            "\u001b[0;31mAttributeError\u001b[0m: 'set' object has no attribute 'append'"
          ]
        }
      ]
    },
    {
      "cell_type": "markdown",
      "source": [
        "<a name=\"p1\"></a>\n",
        "\n",
        "---\n",
        "## **Part 2: Dictionaries**\n",
        "---"
      ],
      "metadata": {
        "id": "nlLXEG6dOMnH"
      }
    },
    {
      "cell_type": "markdown",
      "source": [
        "#### **Problem #2.1**\n",
        "\n",
        "**Together**, let's create a dictionary of people's Elementary Schools."
      ],
      "metadata": {
        "id": "fW0v28kFPKJI"
      }
    },
    {
      "cell_type": "code",
      "source": [
        "ems_coding_students_elementary_schools = {\"Vardhan\" : \"Ella Baker\", \"Siddarth\" : \"Alcott\", \"Sachin\" :\"McAuliffe\", \"Viraj\" : \"McAuliffe\"}\n",
        "print(ems_coding_students_elementary_schools)\n",
        "\n",
        "type(ems_coding_students_elementary_schools)"
      ],
      "metadata": {
        "id": "aKfg9lCLZJzy",
        "outputId": "04d243fd-abdf-44f1-cc41-a9ac7e3446c9",
        "colab": {
          "base_uri": "https://localhost:8080/"
        }
      },
      "execution_count": null,
      "outputs": [
        {
          "output_type": "stream",
          "name": "stdout",
          "text": [
            "{'Vardhan': 'Ella Baker', 'Siddarth': 'Alcott', 'Sachin': 'McAuliffe', 'Viraj': 'McAuliffe'}\n"
          ]
        },
        {
          "output_type": "execute_result",
          "data": {
            "text/plain": [
              "dict"
            ]
          },
          "metadata": {},
          "execution_count": 12
        }
      ]
    },
    {
      "cell_type": "markdown",
      "source": [
        "#### **Problem #2.2**\n",
        "\n",
        "**Independently**,  create an dictionary about people's favorite classes in school."
      ],
      "metadata": {
        "id": "3ibIHkdzZ_RY"
      }
    },
    {
      "cell_type": "code",
      "source": [
        "fav_classes = {\"Emily\" : \"Chemistry\", \"Sophia\" : \"Orchestra\", \"Ananya\": \"Computer Science\"}\n",
        "fav_classes[\"Emily\"]"
      ],
      "metadata": {
        "id": "y4bYp0JCROef",
        "colab": {
          "base_uri": "https://localhost:8080/",
          "height": 35
        },
        "outputId": "8878d139-7563-49f4-8dd4-39c4c4416474"
      },
      "execution_count": null,
      "outputs": [
        {
          "output_type": "execute_result",
          "data": {
            "text/plain": [
              "'Chemistry'"
            ],
            "application/vnd.google.colaboratory.intrinsic+json": {
              "type": "string"
            }
          },
          "metadata": {},
          "execution_count": 13
        }
      ]
    },
    {
      "cell_type": "markdown",
      "source": [
        "#### **Problem #2.3**\n",
        "\n",
        "**Together**, let's create access a value in the dictionary created in problem 2.1."
      ],
      "metadata": {
        "id": "8qCgk37IZJgf"
      }
    },
    {
      "cell_type": "code",
      "source": [
        "ems_coding_students_elementary_schools = {\"Vardhan\" : \"Ella Baker\", \"Siddarth\" : \"Alcott\", \"Sachin\" :\"McAuliffe\", \"Viraj\" : \"McAuliffe\"}\n",
        "a = ems_coding_students_elementary_schools.get(\"Siddarth\")\n",
        "\n",
        "print(a)"
      ],
      "metadata": {
        "id": "XMpr-2RcZJgf",
        "outputId": "2ef23c8d-c0c6-4e1f-dfd3-1c3adafe1537",
        "colab": {
          "base_uri": "https://localhost:8080/"
        }
      },
      "execution_count": 7,
      "outputs": [
        {
          "output_type": "stream",
          "name": "stdout",
          "text": [
            "Alcott\n"
          ]
        }
      ]
    },
    {
      "cell_type": "markdown",
      "source": [
        "#### **Problem #2.4**\n",
        "\n",
        "**Together**, let's create add a value in the dictionary created in problem 2.1."
      ],
      "metadata": {
        "id": "tMdTgeCUprx6"
      }
    },
    {
      "cell_type": "code",
      "source": [
        "fav_classes[\"Arjun\"] = \"Math\"\n",
        "print(fav_classes)"
      ],
      "metadata": {
        "colab": {
          "base_uri": "https://localhost:8080/"
        },
        "id": "SFBuY20wqxS-",
        "outputId": "9bd144e9-7f79-43bc-8ed3-6f96ce1cca28"
      },
      "execution_count": null,
      "outputs": [
        {
          "output_type": "stream",
          "name": "stdout",
          "text": [
            "{'Emily': 'Chemistry', 'Sophia': 'Orchestra', 'Ananya': 'Computer Science', 'Arjun': 'Math'}\n"
          ]
        }
      ]
    },
    {
      "cell_type": "markdown",
      "source": [
        "#### **Problem #2.5**\n",
        "\n",
        "**Independently**, let's modify add the last value in the dictionary created in problem 2.1."
      ],
      "metadata": {
        "id": "C2VMVNJfqwv-"
      }
    },
    {
      "cell_type": "code",
      "source": [
        "ems_coding_students_elementary_schools = {\"Vardhan\" : \"Ella Baker\", \"Siddarth\" : \"Alcott\", \"Sachin\" :\"McAuliffe\", \"Viraj\" : \"McAuliffe\"}\n",
        "\n",
        "ems_coding_students_elementary_schools.update({\"Vardhan\": \"Alcott\"})\n",
        "\n",
        "ems_coding_students_elementary_schools"
      ],
      "metadata": {
        "id": "tEiqCJZaq6i6",
        "outputId": "a7aa0517-3daf-426f-9ce5-9e2a83ae7fab",
        "colab": {
          "base_uri": "https://localhost:8080/"
        }
      },
      "execution_count": 11,
      "outputs": [
        {
          "output_type": "execute_result",
          "data": {
            "text/plain": [
              "{'Vardhan': 'Alcott',\n",
              " 'Siddarth': 'Alcott',\n",
              " 'Sachin': 'McAuliffe',\n",
              " 'Viraj': 'McAuliffe'}"
            ]
          },
          "metadata": {},
          "execution_count": 11
        }
      ]
    },
    {
      "cell_type": "markdown",
      "source": [
        "#### **Problem #2.6**\n",
        "\n",
        "**Independently**, let's modify add the last value in the dictionary created in problem 2.1."
      ],
      "metadata": {
        "id": "CNSGU9yJq4rK"
      }
    },
    {
      "cell_type": "code",
      "source": [],
      "metadata": {
        "id": "FFwafcDHrLBK"
      },
      "execution_count": null,
      "outputs": []
    },
    {
      "cell_type": "markdown",
      "source": [
        "#### **Problem #2.7**\n",
        "\n",
        "**Independently**, let's remove add the first value in the dictionary created in problem 2.1."
      ],
      "metadata": {
        "id": "qlFz5WGGrIV7"
      }
    },
    {
      "cell_type": "code",
      "source": [
        "ems_coding_students_elementary_schools = {\"Vardhan\" : \"Ella Baker\", \"Siddarth\" : \"Alcott\", \"Sachin\" :\"McAuliffe\", \"Viraj\" : \"McAuliffe\"}\n",
        "\n",
        "ems_coding_students_elementary_schools.pop(\"Vardhan\")\n",
        "print(ems_coding_students_elementary_schools)"
      ],
      "metadata": {
        "id": "NBuMx9ksZJgg",
        "outputId": "1baf3b9c-28ae-4363-a618-26748ea0b060",
        "colab": {
          "base_uri": "https://localhost:8080/"
        }
      },
      "execution_count": 13,
      "outputs": [
        {
          "output_type": "stream",
          "name": "stdout",
          "text": [
            "{'Siddarth': 'Alcott', 'Sachin': 'McAuliffe', 'Viraj': 'McAuliffe'}\n"
          ]
        }
      ]
    }
  ]
}
